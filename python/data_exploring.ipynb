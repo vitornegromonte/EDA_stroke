{
 "cells": [
  {
   "attachments": {},
   "cell_type": "markdown",
   "metadata": {},
   "source": [
    "#### Making the data accessible and installing the necessary packages"
   ]
  },
  {
   "cell_type": "code",
   "execution_count": 50,
   "metadata": {},
   "outputs": [],
   "source": [
    "import numpy as np\n",
    "import pandas as pd\n",
    "import seaborn as sns\n",
    "import matplotlib.pyplot as plt\n",
    "from scipy.stats import chi2_contingency\n",
    "import scipy.stats as stats\n",
    "# making the data available with the categorical variables converted to numerical variables\n",
    "data = pd.read_csv('../data/encoded_stroke_data.csv')\n",
    "# making the data available with the categorical variable without be converted to numerical variables\n",
    "datac = pd.read_csv('../data/cleaned_stroke_data.csv')"
   ]
  },
  {
   "attachments": {},
   "cell_type": "markdown",
   "metadata": {},
   "source": [
    "#### Building a scatter plot with a regression line for the variables `age` and `BMI`"
   ]
  },
  {
   "cell_type": "code",
   "execution_count": null,
   "metadata": {},
   "outputs": [],
   "source": [
    "sns.regplot(data=data,\n",
    "            x ='age', \n",
    "            y= 'bmi', \n",
    "            scatter= True, \n",
    "            scatter_kws = {'color' : '#7f7caf', 'alpha': 0.25},\n",
    "            line_kws = {'color': '#283044'})"
   ]
  },
  {
   "attachments": {},
   "cell_type": "markdown",
   "metadata": {},
   "source": [
    "#### Building a joint frequency distribution table and a propotional distribution table for the variables `work_type` and `ever_married`, and printing in LaTeX."
   ]
  },
  {
   "cell_type": "code",
   "execution_count": null,
   "metadata": {},
   "outputs": [],
   "source": [
    "# Create a crosstab with totals\n",
    "crosstab = pd.crosstab(datac[\"work_type\"], datac[\"ever_married\"], margins=True, margins_name=\"Total\")\n",
    "\n",
    "# Create a copy of the crosstab with absolute frequencies\n",
    "crosstab_abs = crosstab.copy()\n",
    "crosstab_abs.iloc[:-1, :-1] = crosstab.iloc[:-1, :-1].values\n",
    "crosstab_abs.iloc[-1, :] = crosstab.iloc[-1, :].values\n",
    "\n",
    "# Set index and column names\n",
    "crosstab_abs.index.name = \"Work Type\"\n",
    "crosstab_abs.columns.name = \"Ever Married\"\n",
    "\n",
    "# Reset index\n",
    "crosstab_abs = crosstab_abs.reset_index()\n",
    "\n",
    "# Print the table of joint frequency distribution\n",
    "print('Tabela de distribuição conjunta de frequências: ')\n",
    "print(crosstab_abs)\n",
    "\n",
    "print('--------------------------')\n",
    "\n",
    "# Create the crosstab with the relative frequencies of ever_married and work_type\n",
    "rel_crosstab = pd.crosstab(index=datac[\"work_type\"], columns=datac[\"ever_married\"], margins=True, normalize=\"columns\")\n",
    "\n",
    "# Add a row for the total relative frequencies\n",
    "rel_crosstab.loc[\"Total\"] = rel_crosstab.sum()\n",
    "\n",
    "# Print the table of joint frequency distribution with relative frequencies\n",
    "print('Tabela de distribuição conjunta de frequência das proporções: ')\n",
    "print(rel_crosstab)\n",
    "print('--------------------------')\n",
    "\n",
    "# Print the crosstab in LaTeX format\n",
    "latex_table = crosstab_abs.to_latex(index=False)\n",
    "print(latex_table)\n",
    "print('--------------------------')\n",
    "\n",
    "# Print the crosstab with relative frequencies in LaTeX format\n",
    "rel_latex_table = rel_crosstab.to_latex(index=True, column_format=\"l\" + \"c\"*len(rel_crosstab.columns), na_rep=\"\")\n",
    "print(rel_latex_table)\n",
    "print('--------------------------')\n"
   ]
  },
  {
   "attachments": {},
   "cell_type": "markdown",
   "metadata": {},
   "source": [
    "#### Boxplot of the variables `age` and `ever_married`"
   ]
  },
  {
   "cell_type": "code",
   "execution_count": null,
   "metadata": {},
   "outputs": [],
   "source": [
    "my_pal = {'Yes': '#78a1bb', 'No': '#7f7caf'}\n",
    "sns.boxplot(data=datac, \n",
    "            x ='age', \n",
    "            y = 'ever_married', \n",
    "            notch = False,\n",
    "            showcaps = True,\n",
    "            flierprops = {'marker': '+'},\n",
    "            medianprops = {'color': '#ebf5ee'},\n",
    "            linewidth = 1.5,\n",
    "            orient = 'h',\n",
    "            palette = my_pal)\n"
   ]
  },
  {
   "attachments": {},
   "cell_type": "markdown",
   "metadata": {},
   "source": [
    "#### Creating the histogram of the variable `age`, determining the number of bins, and printing it in a LaTeX table."
   ]
  },
  {
   "cell_type": "code",
   "execution_count": null,
   "metadata": {},
   "outputs": [],
   "source": [
    "# Determine the number of intervals for age\n",
    "age_min = data['age'].min()  # minimum age\n",
    "age_max = data['age'].max()  # maximum age\n",
    "interval_size = 10  # set the size of each interval\n",
    "\n",
    "# Determine the first class interval starting at 0 and ending at 1\n",
    "n_intervals = int((age_max - age_min) / interval_size) + 1  # calculate the number of intervals\n",
    "first_interval_size = 1 - age_min\n",
    "n_intervals += 1  # add the first interval\n",
    "intervals = [(0, 1)] + [(i*interval_size+1, (i+1)*interval_size) for i in range(n_intervals-1)]\n",
    "intervals[0] = (0, first_interval_size)\n",
    "\n",
    "# Create a histogram of age with intervals and a fade effect\n",
    "hist, bin_edges = np.histogram(data['age'], bins=[interval[0] for interval in intervals]+[intervals[-1][1]])\n",
    "colors = ['#EEEEFF', '#7f7caf', '#9fb4c7', '#28587b', '#223843']\n",
    "for i, interval in enumerate(intervals):\n",
    "    plt.hist(data['age'], bins=[interval[0], interval[1]], alpha=1-(i/n_intervals), color='#7f7caf', edgecolor='black')\n",
    "plt.xlabel('Idade')\n",
    "plt.ylabel('Frequência')\n",
    "plt.title('Histograma da variável idade')\n",
    "plt.show()\n",
    "\n",
    "# Print the class intervals\n",
    "for interval in intervals:\n",
    "    obs = ((data['age'] >= interval[0]) & (data['age'] < interval[1])).sum()\n",
    "    print(f'{interval}: {obs}')\n",
    "    \n",
    "print('--------------------------')\n",
    "\n",
    "# Print the intervals in LaTeX format\n",
    "print(\"\\\\begin{tabular}{|c|c|}\")\n",
    "print(\"\\\\hline\")\n",
    "print(\"Interval & Observations \\\\\\\\\")\n",
    "print(\"\\\\hline\")\n",
    "for i, interval in enumerate(intervals):\n",
    "    print(f\"{interval[0]}-{interval[1]} & {hist[i]} \\\\\\\\\")\n",
    "print(\"\\\\hline\")\n",
    "print(\"\\\\end{tabular}\")\n"
   ]
  },
  {
   "attachments": {},
   "cell_type": "markdown",
   "metadata": {},
   "source": [
    "#### Creating the histogram of the variable `average glucose level`, determining the number of bins, and printing it in a LaTeX table."
   ]
  },
  {
   "cell_type": "code",
   "execution_count": null,
   "metadata": {},
   "outputs": [],
   "source": [
    "# Determine the number of intervals for average glucose level\n",
    "gluco_min = data['avg_glucose_level'].min()  # minimum glucose level\n",
    "gluco_max = data['avg_glucose_level'].max()  # maximum glucose level\n",
    "interval_size = 20  # set the size of each interval\n",
    "\n",
    "# Determine the intervals\n",
    "intervals = [(i, i+interval_size) for i in range(int(gluco_min), int(gluco_max)+1, interval_size)]\n",
    "\n",
    "# Create a histogram of average glucose level with intervals and a fade effect\n",
    "hist, bin_edges = np.histogram(data['avg_glucose_level'], bins=[interval[0] for interval in intervals]+[intervals[-1][1]])\n",
    "colors = ['#EEEEFF', '#7f7caf', '#9fb4c7', '#28587b', '#223843']\n",
    "\n",
    "for i, interval in enumerate(intervals):\n",
    "    plt.hist(data['avg_glucose_level'], bins=[interval[0], interval[1]], alpha=1-(i/len(intervals)), color='#7f7caf', edgecolor='black')\n",
    "plt.xlabel('Nível médio de glicose')\n",
    "plt.ylabel('Frequência')\n",
    "plt.title('Histograma do nível médio de glicose')\n",
    "plt.show()\n",
    "\n",
    "# Print the intervals and number of observations\n",
    "for interval in intervals:\n",
    "    obs = ((data['avg_glucose_level'] >= interval[0]) & (data['avg_glucose_level'] < interval[1])).sum()\n",
    "    print(f'{interval}: {obs}')\n",
    "\n",
    "print('--------------------------')\n",
    "\n",
    "# Print the intervals in LaTeX format\n",
    "print(\"\\\\begin{tabular}{|c|c|}\")\n",
    "print(\"\\\\hline\")\n",
    "print(\"Interval & Observations \\\\\\\\\")\n",
    "print(\"\\\\hline\")\n",
    "for i, interval in enumerate(intervals):\n",
    "    print(f\"{interval[0]}-{interval[1]} & {hist[i]} \\\\\\\\\")\n",
    "print(\"\\\\hline\")\n",
    "print(\"\\\\end{tabular}\")"
   ]
  },
  {
   "attachments": {},
   "cell_type": "markdown",
   "metadata": {},
   "source": [
    "#### Creating the histogram of the variable `BMI`, determining the number of bins, and printing it in a LaTeX table."
   ]
  },
  {
   "cell_type": "code",
   "execution_count": null,
   "metadata": {},
   "outputs": [],
   "source": [
    "# Determine the number of intervals for BMI\n",
    "bmi_min = data['bmi'].min()  # minimum BMI\n",
    "bmi_max = data['bmi'].max()  # maximum BMI\n",
    "interval_size = 10  # set the size of each interval\n",
    "\n",
    "# Determine the first class interval starting at the minimum BMI and ending at the first multiple of interval size\n",
    "first_interval_size = interval_size - (bmi_min % interval_size)\n",
    "if first_interval_size == interval_size:\n",
    "    first_interval_size = 0\n",
    "n_intervals = int((bmi_max - bmi_min - first_interval_size) / interval_size) + 1  # calculate the number of intervals\n",
    "intervals = [(bmi_min, bmi_min + first_interval_size)] + [(bmi_min + first_interval_size + i*interval_size, bmi_min + first_interval_size + (i+1)*interval_size) for i in range(n_intervals-1)]\n",
    "\n",
    "# Create a histogram of BMI with intervals and a fade effect\n",
    "hist, bin_edges = np.histogram(data['bmi'], bins=[interval[0] for interval in intervals]+[intervals[-1][1]])\n",
    "colors = ['#EEEEFF', '#7f7caf', '#9fb4c7', '#28587b', '#223843']\n",
    "for i, interval in enumerate(intervals):\n",
    "    plt.hist(data['bmi'], bins=[interval[0], interval[1]], alpha=1-(i/n_intervals), color='#7f7caf', edgecolor='black')\n",
    "plt.xlabel('IMC')\n",
    "plt.ylabel('Frequência')\n",
    "plt.title('Histograma do IMC')\n",
    "plt.show()\n",
    "\n",
    "# Print the intervals with the number of observations\n",
    "for interval in intervals:\n",
    "    obs = ((data['bmi'] >= interval[0]) & (data['bmi'] < interval[1])).sum()\n",
    "    print(f'{interval}: {obs}')\n",
    "    \n",
    "print('--------------------------')\n",
    "\n",
    "# Print the intervals in LaTeX format\n",
    "print(\"\\\\begin{tabular}{|c|c|}\")\n",
    "print(\"\\\\hline\")\n",
    "print(\"Interval & Observations \\\\\\\\\")\n",
    "print(\"\\\\hline\")\n",
    "for i, interval in enumerate(intervals):\n",
    "    print(f\"{interval[0]}-{interval[1]} & {hist[i]} \\\\\\\\\")\n",
    "print(\"\\\\hline\")\n",
    "print(\"\\\\end{tabular}\")"
   ]
  },
  {
   "attachments": {},
   "cell_type": "markdown",
   "metadata": {},
   "source": [
    "#### Creating a pie chart of the `work_type` variable"
   ]
  },
  {
   "cell_type": "code",
   "execution_count": null,
   "metadata": {},
   "outputs": [],
   "source": [
    "# Calculate the number of males and females\n",
    "gender_counts = datac['work_type'].value_counts()\n",
    "\n",
    "# Create a pie chart\n",
    "labels = gender_counts.index.tolist()\n",
    "sizes = gender_counts.values.tolist()\n",
    "colors = [\"#EEEEFF\", \"#7f7caf\", \"#9fb4c7\", '#28587b']\n",
    "edgecolors = ['#223843', '#223843']\n",
    "plt.pie(sizes, labels=labels, colors=colors, autopct='%1.1f%%', startangle=90, \n",
    "        wedgeprops={'edgecolor': 'black', 'linewidth': 0.3}, textprops={'color':\"black\"})\n",
    "\n",
    "# Add a title\n",
    "plt.title('Distribuição da variável tipo de trabalho')\n",
    "\n",
    "# Show the plot\n",
    "plt.show()\n"
   ]
  },
  {
   "attachments": {},
   "cell_type": "markdown",
   "metadata": {},
   "source": [
    "#### Chi-square and p-value of `ever_married` and `work_type`"
   ]
  },
  {
   "cell_type": "code",
   "execution_count": null,
   "metadata": {},
   "outputs": [],
   "source": [
    "# Create a cross-tabulation of ever_married and work_type\n",
    "ct = pd.crosstab(data['ever_married'], data['work_type'])\n",
    "\n",
    "# Perform the chi-square test of independence\n",
    "chi2_stat, p_val, dof, expected = stats.chi2_contingency(ct)\n",
    "\n",
    "# Print the results\n",
    "print(f\"Chi-square: {chi2_stat:.2f}\")\n",
    "print(f\"p-value: {p_val:.10f}\")\n",
    "\n"
   ]
  },
  {
   "attachments": {},
   "cell_type": "markdown",
   "metadata": {},
   "source": [
    "#### Correlation coefficient between `age` and `BMI`"
   ]
  },
  {
   "cell_type": "code",
   "execution_count": null,
   "metadata": {},
   "outputs": [],
   "source": [
    "corr = data['age'].corr(data['bmi'])\n",
    "\n",
    "print(f\"The correlation coefficient between age and bmi is: {corr:.2f}\")"
   ]
  },
  {
   "attachments": {},
   "cell_type": "markdown",
   "metadata": {},
   "source": [
    "#### Descriptives statistics of `age` by `ever_married` variables"
   ]
  },
  {
   "cell_type": "code",
   "execution_count": null,
   "metadata": {},
   "outputs": [],
   "source": [
    "# Calculate descriptive statistics of age by ever_married\n",
    "age_stats = datac.groupby('ever_married')['age'].describe()\n",
    "\n",
    "# Add variance to the statistics\n",
    "age_variance = datac.groupby('ever_married')['age'].var()\n",
    "age_stats['variance'] = age_variance\n",
    "\n",
    "# Add a line with the total for each value\n",
    "total_stats = datac['age'].describe()\n",
    "total_variance = datac['age'].var()\n",
    "total_stats['variance'] = total_variance\n",
    "age_stats.loc['Total'] = total_stats\n",
    "\n",
    "print(age_stats)\n"
   ]
  },
  {
   "attachments": {},
   "cell_type": "markdown",
   "metadata": {},
   "source": [
    "#### Calculating the Pearson correlation coefficient of `age` and `ever_married` variables"
   ]
  },
  {
   "cell_type": "code",
   "execution_count": null,
   "metadata": {},
   "outputs": [],
   "source": [
    "# Separate the data of the variable \"age\" into groups, according to \"ever_married\".\n",
    "married = datac[datac['ever_married'] == 'Yes']['age']\n",
    "not_married = datac[datac['ever_married'] == 'No']['age']\n",
    "\n",
    "# Calculate the descriptives statistics within each group.\n",
    "married_mean = np.mean(married)\n",
    "not_married_mean = np.mean(not_married)\n",
    "married_std = np.std(married)\n",
    "not_married_std = np.std(not_married)\n",
    "\n",
    "# Calculate the variance within each group and weight it by the number of observations\n",
    "married_var = np.var(married, ddof=1) * len(married) / len(stroke_df)\n",
    "not_married_var = np.var(not_married, ddof=1) * len(not_married) / len(stroke_df)\n",
    "\n",
    "# Calculate the mean of the weighted variances\n",
    "weighted_var = married_var + not_married_var\n",
    "\n",
    "# Compare it with the total variance of the 'age' variable.\n",
    "total_var = np.var(stroke_df['age'], ddof=1)\n",
    "if weighted_var <= total_var:\n",
    "    print(f'The weighted variance is lower ({weighted_var:.3f}) or equal to the total variance ({total_var:.3f}).')\n",
    "else:\n",
    "    print(f'The weighted variance is higher ({weighted_var:.3f}) than the total variance ({total_var:.3f}).')\n",
    "\n",
    "# Calculate the Pearson correlation coefficient\n",
    "correlation = datac['age'].corr(datac['ever_married'].astype('category').cat.codes)\n",
    "print(f\"The Pearson correlation coefficient is {correlation:.2f}\")"
   ]
  }
 ],
 "metadata": {
  "kernelspec": {
   "display_name": "Python 3",
   "language": "python",
   "name": "python3"
  },
  "language_info": {
   "codemirror_mode": {
    "name": "ipython",
    "version": 3
   },
   "file_extension": ".py",
   "mimetype": "text/x-python",
   "name": "python",
   "nbconvert_exporter": "python",
   "pygments_lexer": "ipython3",
   "version": "3.10.9"
  },
  "orig_nbformat": 4
 },
 "nbformat": 4,
 "nbformat_minor": 2
}
