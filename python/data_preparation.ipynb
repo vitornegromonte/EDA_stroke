{
 "cells": [
  {
   "attachments": {},
   "cell_type": "markdown",
   "metadata": {},
   "source": [
    "### Cleaning the dataset\n",
    "1. Remove data that contains N/A.\n",
    "2. Remove data with the gender of \"Other\".\n",
    "3. Remove colummn ID.\n",
    "4. Convert catergorical variables to numerical variables."
   ]
  },
  {
   "cell_type": "code",
   "execution_count": 5,
   "metadata": {},
   "outputs": [],
   "source": [
    "# Installing the packages\n",
    "import pandas as pd\n",
    "from sklearn.preprocessing import LabelEncoder\n",
    "import seaborn as sns\n",
    "import matplotlib.pyplot as plt"
   ]
  },
  {
   "cell_type": "code",
   "execution_count": 6,
   "metadata": {},
   "outputs": [],
   "source": [
    "# Load the dataset\n",
    "df = pd.read_csv('../data/healthcare-dataset-stroke-data.csv')\n",
    "\n",
    "# Drop rows with missing values\n",
    "df = df.dropna()\n",
    "\n",
    "# Remove rows with gender = \"Other\"\n",
    "df = df[df.gender != \"Other\"]\n",
    "\n",
    "# Drop the id column\n",
    "df = df.drop('id', axis=1)\n",
    "\n",
    "# Export the cleaned dataset to a CSV file\n",
    "df.to_csv('../data/cleaned_stroke_data.csv', index=False)\n",
    "\n",
    "\n",
    "# load the cleaned dataset\n",
    "df = pd.read_csv(\"../data/cleaned_stroke_data.csv\")\n",
    "\n",
    "# initialize the LabelEncoder\n",
    "le = LabelEncoder()\n",
    "\n",
    "# encode the categorical variables\n",
    "df[\"gender\"] = le.fit_transform(df[\"gender\"])\n",
    "df[\"ever_married\"] = le.fit_transform(df[\"ever_married\"])\n",
    "df[\"work_type\"] = le.fit_transform(df[\"work_type\"])\n",
    "df[\"Residence_type\"] = le.fit_transform(df[\"Residence_type\"])\n",
    "df[\"smoking_status\"] = le.fit_transform(df[\"smoking_status\"])\n",
    "\n",
    "# save the encoded dataset\n",
    "df.to_csv(\"../data/encoded_stroke_data.csv\", index=False)"
   ]
  }
 ],
 "metadata": {
  "kernelspec": {
   "display_name": "Python 3",
   "language": "python",
   "name": "python3"
  },
  "language_info": {
   "codemirror_mode": {
    "name": "ipython",
    "version": 3
   },
   "file_extension": ".py",
   "mimetype": "text/x-python",
   "name": "python",
   "nbconvert_exporter": "python",
   "pygments_lexer": "ipython3",
   "version": "3.10.9"
  },
  "orig_nbformat": 4
 },
 "nbformat": 4,
 "nbformat_minor": 2
}
